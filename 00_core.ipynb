{
 "cells": [
  {
   "cell_type": "code",
   "execution_count": null,
   "metadata": {},
   "outputs": [],
   "source": [
    "# default_exp core"
   ]
  },
  {
   "cell_type": "markdown",
   "metadata": {},
   "source": [
    "# testing43\n",
    "\n",
    "> API details."
   ]
  },
  {
   "cell_type": "code",
   "execution_count": null,
   "metadata": {},
   "outputs": [],
   "source": [
    "# hide\n",
    "from nbdev.showdoc import *"
   ]
  },
  {
   "cell_type": "code",
   "execution_count": null,
   "metadata": {},
   "outputs": [],
   "source": [
    "# export\n",
    "import numpy as np\n",
    "\n",
    "from dataclasses import dataclass\n",
    "from typing import List\n",
    "\n",
    "\n",
    "@dataclass\n",
    "class Instance:\n",
    "    \"\"\"An Instance is a sample from a dataset.\"\"\"\n",
    "\n",
    "    text: str\n",
    "    tokens: List[str] = None\n",
    "    vectors: np.ndarray = None\n",
    "    embedding: np.ndarray = None\n",
    "\n",
    "    def __repr__(self):\n",
    "        if self.tokens:\n",
    "            return f\"{' '.join(self.tokens[:25])}\"\n",
    "        else:\n",
    "            return self.text[:25]"
   ]
  }
 ],
 "metadata": {
  "kernelspec": {
   "display_name": "Python 3",
   "language": "python",
   "name": "python3"
  }
 },
 "nbformat": 4,
 "nbformat_minor": 4
}
